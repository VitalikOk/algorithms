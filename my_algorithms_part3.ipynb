{
 "cells": [
  {
   "cell_type": "markdown",
   "id": "781bc483",
   "metadata": {},
   "source": [
    "# Динамическое програмирование"
   ]
  },
  {
   "cell_type": "markdown",
   "id": "06d5f612",
   "metadata": {},
   "source": [
    "## Наибольшая последовательнократная подпоследовательность"
   ]
  },
  {
   "cell_type": "code",
   "execution_count": 2,
   "id": "7f30033d",
   "metadata": {},
   "outputs": [
    {
     "name": "stdout",
     "output_type": "stream",
     "text": [
      "[3, 6, 7, 12] 4\n",
      "3\n"
     ]
    }
   ],
   "source": [
    "\"\"\"\n",
    "Дано целое число 1 ≤ n ≤ 10^3 и массив A[1…n] натуральных чисел, не превосходящих 2⋅10^9\n",
    "Выведите максимальное 1 ≤ k ≤ n, для которого найдётся подпоследовательность 1 ≤ i1 < i2 < … < ik ≤ n длины k,\n",
    "в которой каждый элемент делится на предыдущий (формально: для  всех 1 ≤ j < k , A[i_j]|A[i_{j+1}]\n",
    "\"\"\"\n",
    "\n",
    "\n",
    "def maxdivs_botup(A, n):\n",
    "    D = [1 for i in range(n)]\n",
    "    for i in range(n):\n",
    "        for j in range(i):\n",
    "            if (A[i] % A[j]) == 0 and D[j]+1 > D[i]:\n",
    "                D[i] = D[j] + 1\n",
    "    result = 0\n",
    "    for i in range(n):\n",
    "        result = max(result, D[i])  \n",
    "#     print(D)\n",
    "    return result\n",
    "    \n",
    "    \n",
    "# A = [7,2,1,3,8,4,9,1,2,6,5,9,3,8,1]\n",
    "A = [3,6,7,12]\n",
    "n = len(A)    \n",
    "print(A, len(A))\n",
    "print(maxdivs_botup(A, n))\n",
    "\n",
    "\n",
    "# #Для теста тренажера stepika ввод через stdin → stdout\n",
    "# import sys\n",
    "# def main(): \n",
    "#     input = sys.stdin\n",
    "#     n = int(input.readline())\n",
    "#     A = list(map(int, input.readline().split()))\n",
    "#     print(maxdivs_botup(A,n))\n",
    "        \n",
    "# if __name__ == \"__main__\":\n",
    "#     main()   "
   ]
  },
  {
   "cell_type": "markdown",
   "id": "79f6b537",
   "metadata": {},
   "source": [
    "## Наибольшая невозрастающая подпоследовательность"
   ]
  },
  {
   "cell_type": "code",
   "execution_count": 6,
   "id": "05ee14d3",
   "metadata": {},
   "outputs": [
    {
     "name": "stdout",
     "output_type": "stream",
     "text": [
      "[2, 7, 1, 4, 3, 5, 4, 6, 2, 5, 8, 3]\n",
      "4\n",
      "2 6 7 9\n",
      "4\n",
      "2 8 10 12 \n"
     ]
    }
   ],
   "source": [
    "\"\"\"    \n",
    "Дано целое число 1 ≤ n ≤ 10^5 и массив A[1…n], содержащий неотрицательные целые числа, не превосходящие 10^9\n",
    "Найдите наибольшую невозрастающую подпоследовательность в A. \n",
    "В первой строке выведите её длину k, \n",
    "во второй — её индексы 1 ≤ i1 < i2 < … < ik ≤ n \n",
    "(таким образом, A[i1] ≥ A[i2] ≥ … ≥ A [in]).\n",
    "\"\"\"\n",
    "\n",
    "\n",
    "def notgrow_botup_slow(A, n): #O(n**2)\n",
    "    D = [1 for i in range(n)]\n",
    "    #поиск  подпоследовательность в \n",
    "    #D записывается max количество элемнтов последовательности для позиции i\n",
    "    for i in range(n):\n",
    "        for j in range(i):\n",
    "            if A[j] >= A[i] and D[j]+1 > D[i]:\n",
    "                D[i] = D[j] + 1 \n",
    "    #составление индексов последовательности\n",
    "    ind_max = 0\n",
    "    inds = 0\n",
    "    for i in range(0,n):\n",
    "        if D[ind_max] < D[i]:\n",
    "            ind_max = i\n",
    "        inds = [ind_max]    \n",
    "        inds_str = str(ind_max+1)\n",
    "        for i in reversed(range(ind_max+1)):\n",
    "            if D[i] == D[inds[-1]] - 1:\n",
    "                inds.append(i) \n",
    "                inds_str = f'{str(i+1)} {inds_str}'            \n",
    "    return len(inds), inds_str\n",
    "    \n",
    "    \n",
    "def notgrow_botup(A, n):  #O(nlogn)\n",
    "    #двоичный поиск max len последовательности\n",
    "    inf = 10**9 + 1\n",
    "    L = [inf] + [-inf] * (n + 1)\n",
    "    anc = []\n",
    "    for i in range(n): \n",
    "        left, right = 0, n+1\n",
    "        while left + 1 < right:\n",
    "            middle = (left + right) // 2\n",
    "            if L[middle] >= A[i]:\n",
    "                left = middle\n",
    "            else:\n",
    "                right = middle\n",
    "        L[right] = A[i]\n",
    "        #заптсь информации о предках дял восстановления посследовательности\n",
    "        anc.append([right,i])\n",
    "    #двоичный поиск последнего жлемента < inf\n",
    "    left, right = 0, n+1    \n",
    "    while left + 1 < right:\n",
    "        middle = (left + right) // 2\n",
    "        if L[middle] > -inf:\n",
    "            left = middle\n",
    "        else:\n",
    "            right = middle \n",
    "    len_ar = left\n",
    "    count = len_ar\n",
    "    inds_str = ''\n",
    "    for i in reversed(range(len(anc))):\n",
    "        if count == anc[i][0]:\n",
    "            inds_str = f\"{anc[i][1]+1} {inds_str}\" \n",
    "            count -= 1\n",
    "    return  len_ar, inds_str\n",
    "        \n",
    "    \n",
    "    \n",
    "# A = [5,3,4,4,2]    \n",
    "A = [2,7,1,4,3,5,4,6,2,5,8,3]\n",
    "# A = [1]\n",
    "n = len(A)    \n",
    "print(A)\n",
    "\n",
    "len_ar, ind_ar = notgrow_botup_slow(A, n)\n",
    "print(len_ar)\n",
    "print(ind_ar)\n",
    "\n",
    "len_ar, ind_ar = notgrow_botup(A, n)\n",
    "print(len_ar)\n",
    "print(ind_ar)\n",
    "\n",
    "\n",
    "# #Для теста тренажера stepika ввод через stdin → stdout\n",
    "# import sys\n",
    "# def main(): \n",
    "#     input = sys.stdin\n",
    "#     n = int(input.readline())\n",
    "#     A = list(map(int, input.readline().split()))\n",
    "#     D = notgrow_botup(A,n)\n",
    "#     get_inds(D, n)    \n",
    "# if __name__ == \"__main__\":\n",
    "#     main()   "
   ]
  },
  {
   "cell_type": "markdown",
   "id": "4ab58587",
   "metadata": {},
   "source": [
    "# Расстояние редактирования"
   ]
  },
  {
   "cell_type": "code",
   "execution_count": 75,
   "id": "626be6ad",
   "metadata": {},
   "outputs": [
    {
     "data": {
      "text/plain": [
       "3"
      ]
     },
     "metadata": {},
     "output_type": "display_data"
    },
    {
     "data": {
      "text/plain": [
       "5"
      ]
     },
     "metadata": {},
     "output_type": "display_data"
    }
   ],
   "source": [
    "\"\"\"\n",
    "Вычислите расстояние редактирования двух данных непустых строк длины не более 10^2,\n",
    "содержащих строчные буквы латинского алфавита.\n",
    "\"\"\" \n",
    "def diff(s1,s2):\n",
    "    if s1 == s2:\n",
    "        return 0\n",
    "    else:\n",
    "        return 1\n",
    "    \n",
    "def edit_dist_bu(A,B):\n",
    "    \"\"\"\n",
    "    Простой алгоритм\n",
    "    \"\"\"\n",
    "    n = len(A)+1\n",
    "    m = len(B)+1\n",
    "    D = [[10**2+1]*m for i in range(n)]\n",
    "    for i in range(n):\n",
    "        D[i][0] = i\n",
    "    for j in range(m):\n",
    "        D[0][j] = j\n",
    "    for i in range(1,n):\n",
    "        for j in range(1,m):\n",
    "            D[i][j] = min(D[i-1][j]+1,D[i][j-1]+1\n",
    "                          ,D[i-1][j-1]+diff(A[i-1],B[j-1]))            \n",
    "    return D[n-1][m-1]\n",
    "\n",
    "\n",
    "def del_ch():\n",
    "    return 2\n",
    "\n",
    "\n",
    "def ins_ch():\n",
    "    return 2\n",
    "\n",
    "\n",
    "def edit_dist_bu_low_mem_cost(A,B):\n",
    "    \"\"\"\n",
    "    Алгорит с экономией памяти \n",
    "    и функциями стоимости\n",
    "    \"\"\"\n",
    "    if A > B:\n",
    "        A, B = B, A\n",
    "    n = len(A)+1\n",
    "    m = len(B)+1\n",
    "    prev = [j for j in range(n)]    \n",
    "    for i in range(1,m):\n",
    "        curr = [i]+[10**2+1]*(n-1)         \n",
    "        for j in range(1,n):\n",
    "            curr[j] = min(curr[j-1] + del_ch()\n",
    "                         ,prev[j]   + ins_ch()                            \n",
    "                         ,prev[j-1] + diff(A[j-1],B[i-1]))\n",
    "        prev = curr\n",
    "    return curr[n-1]\n",
    "\n",
    "\n",
    "str_1 = 'abgbhtr'\n",
    "str_2 = 'abhtrg'\n",
    "display(edit_dist_bu(str_1, str_2))\n",
    "display(edit_dist_bu_low_mem_cost(str_1, str_2))\n",
    "\n",
    "#Для теста тренажера stepika ввод через stdin → stdout\n",
    "# import sys\n",
    "# def main(): \n",
    "#     input = sys.stdin\n",
    "#     str_1 = input.readline()\n",
    "#     str_2 = input.readline()\n",
    "#     print(edit_dist_bu(str_1, str_2))    \n",
    "# if __name__ == \"__main__\":\n",
    "#     main()   "
   ]
  },
  {
   "cell_type": "markdown",
   "id": "10cffed8",
   "metadata": {},
   "source": [
    "# Рюкзак без разделения"
   ]
  },
  {
   "cell_type": "code",
   "execution_count": 17,
   "id": "26c57a1b",
   "metadata": {},
   "outputs": [
    {
     "data": {
      "text/plain": [
       "[[0, 0, 0, 0, 0, 0, 0, 0, 0, 0, 0],\n",
       " [0, 1, 1, 1, 1, 1, 1, 1, 1, 1, 1],\n",
       " [0, 1, 1, 1, 4, 5, 5, 5, 5, 5, 5],\n",
       " [0, 1, 1, 1, 4, 5, 5, 5, 8, 9, 9]]"
      ]
     },
     "metadata": {},
     "output_type": "display_data"
    },
    {
     "name": "stdout",
     "output_type": "stream",
     "text": [
      "9\n"
     ]
    }
   ],
   "source": [
    "\"\"\"\n",
    "Первая строка входа содержит целые числа 1 ≤ W ≤ 10^4 и 1 ≤ n ≤ 300 — вместимость рюкзака и число золотых слитков.\n",
    "Следующая строка содержит n целых чисел 0 ≤ w1, …, wn ≤ 10^5, \n",
    "задающих веса слитков. Найдите максимальный вес золота, который можно унести в рюкзаке.\n",
    "\"\"\"\n",
    "\n",
    "def knapsack_reps_bu(W, n, w, c):\n",
    "    \"\"\"\n",
    "    Рюкзак с повторениями\n",
    "    \"\"\"\n",
    "    D = [0]*(W+1)\n",
    "    min_w = min(w)\n",
    "    for wc in range(min_w, W+1):\n",
    "        for i in range(n):\n",
    "            if w[i] <= wc:\n",
    "                D[wc] = max(D[wc],D[wc-w[i]]+c[i])\n",
    "    return D[W]\n",
    "\n",
    "\n",
    "\n",
    "def knapsack_noreps_bu(W, n, w, c):    \n",
    "    \"\"\"\n",
    "    Рюкзак без повторений\n",
    "    \"\"\"\n",
    "    D = [[0]*(W+1) for i in range(n+1)]\n",
    "    min_w = min(w)\n",
    "    for i in range(1,n+1):\n",
    "        for wc in range(min_w, W+1): \n",
    "            D[i][wc] = D[i-1][wc]\n",
    "            if w[i-1] <= wc:\n",
    "                D[i][wc] = max(D[i][wc],D[i-1][wc-w[i-1]]+c[i-1])\n",
    "#     display(D)\n",
    "    return D[n][W]\n",
    "\n",
    "\n",
    "# str_1 = '10 3'\n",
    "# str_2 = '1 4 8'\n",
    "\n",
    "str_1 = '10 4'\n",
    "str_2 = '6 3 4 2' \n",
    "str_3 = '30 14 16 9'\n",
    "\n",
    "\n",
    "W, n = list(map(int, str_1.split()))\n",
    "w = list(map(int, str_2.split()))\n",
    "c = list(map(int, str_3.split()))\n",
    "print(knapsack_reps_bu(W, n, w, c))\n",
    "print(knapsack_noreps_bu(W, n, w, c))\n",
    "\n",
    "#Для теста тренажера stepika ввод через stdin → stdout\n",
    "import sys\n",
    "def main(): \n",
    "    input = sys.stdin\n",
    "    W, n = list(map(int, input.readline().split()))\n",
    "    w = list(map(int, input.readline().split()))\n",
    "    print(knapsack_noreps_bu(W, n, w, w))\n",
    "if __name__ == \"__main__\":\n",
    "    main()   "
   ]
  },
  {
   "cell_type": "markdown",
   "id": "4b2eafaa",
   "metadata": {},
   "source": [
    "# Лестница"
   ]
  },
  {
   "cell_type": "code",
   "execution_count": 11,
   "id": "cd537165",
   "metadata": {},
   "outputs": [
    {
     "name": "stdout",
     "output_type": "stream",
     "text": [
      "3\n",
      "1\n",
      "3\n"
     ]
    }
   ],
   "source": [
    "\"\"\"\n",
    "Даны число 1 ≤ n ≤ 10^2 ступенек лестницы \n",
    "и целые числа -10^4 ≤ a1 , … , an ≤ 10^4, которыми помечены ступеньки.\n",
    "Найдите максимальную сумму, которую можно получить, идя по лестнице снизу вверх \n",
    "(от нулевой до n-ой ступеньки), каждый раз поднимаясь на одну или две ступеньки.\n",
    "\"\"\"\n",
    "\n",
    "def ladder(n, a):\n",
    "    pprev, prev, curr = 0, 0, 0    \n",
    "    for i in range(1,n):\n",
    "        curr = a[i] + max(pprev, prev)\n",
    "        pprev, prev = prev, curr\n",
    "    return curr\n",
    "\n",
    "\n",
    "exeples = [\n",
    "    ['2','1 2'],\n",
    "    ['2','2 -1'],\n",
    "    ['3','-1 2 1' ]    \n",
    "          ]\n",
    "\n",
    "\n",
    "for n, a in exeples:\n",
    "    nn = int(n)\n",
    "    aa = list(map(int, a.split()))\n",
    "    print(ladder(nn, aa))\n",
    "\n",
    "#Для теста тренажера stepika ввод через stdin → stdout\n",
    "# import sys\n",
    "# def main(): \n",
    "#     input = sys.stdin\n",
    "#     nn = int(input.readline())\n",
    "#     aa = list(map(int, input.readline().split()))\n",
    "#     print(ladder(nn, aa))\n",
    "# if __name__ == \"__main__\":\n",
    "#     main()   \n"
   ]
  },
  {
   "cell_type": "markdown",
   "id": "3f47bc5d",
   "metadata": {},
   "source": [
    "# Калькулятор"
   ]
  },
  {
   "cell_type": "code",
   "execution_count": 43,
   "id": "28d93abb",
   "metadata": {},
   "outputs": [
    {
     "name": "stdout",
     "output_type": "stream",
     "text": [
      "0\n",
      "1\n",
      "3\n",
      "1 2 4 5\n",
      "14\n",
      "1 3 9 10 11 22 66 198 594 1782 5346 16038 16039 32078 96234\n"
     ]
    }
   ],
   "source": [
    "\"\"\"\n",
    "У вас есть примитивный калькулятор, который умеет выполнять всего три операции с текущим числом x:\n",
    "заменить x на 2x, 3x или x+1. По данному целому числу 1 ≤ n ≤ 10^5\n",
    "определите минимальное число операций k, необходимое, чтобы получить n из 1. \n",
    "Выведите k и последовательность промежуточных чисел.\n",
    "\"\"\"\n",
    "def x_treble(x):\n",
    "    return x * 3\n",
    "\n",
    "\n",
    "def x_double(x):\n",
    "    return x * 2\n",
    "\n",
    "\n",
    "def x_inc_one(x):\n",
    "    return x + 1\n",
    "\n",
    "\n",
    "def simp_calc(n):\n",
    "    F = [x_inc_one, x_double, x_treble]\n",
    "    steps = [0]+[0]+[10**5] * (n+1)\n",
    "    prev = [0]+[0]+[0] * (n+1)\n",
    "    for i in range(1,n+1):\n",
    "        for f in F:\n",
    "            curr = f(i) \n",
    "            if curr <= n:\n",
    "                if steps[curr] > steps[i] + 1:\n",
    "                    steps[curr] = steps[i] + 1\n",
    "                    prev[curr] = i                \n",
    "    k = steps[n]     \n",
    "    step = prev[n]\n",
    "    steps_str = f\"{n}\"\n",
    "    while step > 0:        \n",
    "        steps_str = f\"{step} {steps_str}\"        \n",
    "        step = prev[step]\n",
    "    print(k)\n",
    "    print(steps_str)\n",
    "\n",
    "\n",
    "exeples = ['1','5','96234']\n",
    "\n",
    "\n",
    "for n in exeples:    \n",
    "    simp_calc(int(n))\n",
    "\n",
    "#Для теста тренажера stepika ввод через stdin → stdout\n",
    "# import sys\n",
    "# def main(): \n",
    "#     input = sys.stdin\n",
    "#     n = int(input.readline())\n",
    "#     simp_calc(n)\n",
    "# if __name__ == \"__main__\":\n",
    "#     main()  "
   ]
  },
  {
   "cell_type": "code",
   "execution_count": null,
   "id": "608bd41a",
   "metadata": {},
   "outputs": [],
   "source": []
  }
 ],
 "metadata": {
  "kernelspec": {
   "display_name": "Python 3 (ipykernel)",
   "language": "python",
   "name": "python3"
  },
  "language_info": {
   "codemirror_mode": {
    "name": "ipython",
    "version": 3
   },
   "file_extension": ".py",
   "mimetype": "text/x-python",
   "name": "python",
   "nbconvert_exporter": "python",
   "pygments_lexer": "ipython3",
   "version": "3.9.7"
  },
  "toc": {
   "base_numbering": 1,
   "nav_menu": {},
   "number_sections": true,
   "sideBar": true,
   "skip_h1_title": false,
   "title_cell": "Table of Contents",
   "title_sidebar": "Contents",
   "toc_cell": false,
   "toc_position": {},
   "toc_section_display": true,
   "toc_window_display": false
  }
 },
 "nbformat": 4,
 "nbformat_minor": 5
}
